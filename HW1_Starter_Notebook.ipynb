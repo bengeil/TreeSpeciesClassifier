{
  "cells": [
    {
      "cell_type": "code",
      "execution_count": 1,
      "metadata": {
        "id": "5OUW75f1w56j"
      },
      "outputs": [],
      "source": [
        "import numpy as np\n",
        "import sklearn\n",
        "import torch\n",
        "import os"
      ]
    },
    {
      "cell_type": "code",
      "execution_count": 2,
      "metadata": {
        "colab": {
          "base_uri": "https://localhost:8080/"
        },
        "id": "CNAG8fBHw_ns",
        "outputId": "1f5ccc86-1f85-4c32-8b83-16b68a5b2696"
      },
      "outputs": [
        {
          "output_type": "stream",
          "name": "stdout",
          "text": [
            "--2025-01-27 07:12:28--  https://www.dropbox.com/scl/fi/b7mw23k3ifaeui9m8nnn3/tree_species_classifier_data.npz?rlkey=bgxp37c1t04i7q35waf3slc26&dl=1\n",
            "Resolving www.dropbox.com (www.dropbox.com)... 162.125.65.18, 2620:100:6021:18::a27d:4112\n",
            "Connecting to www.dropbox.com (www.dropbox.com)|162.125.65.18|:443... connected.\n",
            "HTTP request sent, awaiting response... 302 Found\n",
            "Location: https://uc287e6022c6b04207a41d9e1729.dl.dropboxusercontent.com/cd/0/inline/Ci_g78WitUZw7hr5jc9NiJtjOu4dqtYENlg1jS-4h-ctDjD1sdukMNMHACVUcYVGd_NoAhq74kV9Qu-IJnXtJAmNC27yje7IaVBPQR7UwbxugVFq6e2hR115ow_n779MeGf2XW9yjW8pXhE57KkASL-u/file?dl=1# [following]\n",
            "--2025-01-27 07:12:29--  https://uc287e6022c6b04207a41d9e1729.dl.dropboxusercontent.com/cd/0/inline/Ci_g78WitUZw7hr5jc9NiJtjOu4dqtYENlg1jS-4h-ctDjD1sdukMNMHACVUcYVGd_NoAhq74kV9Qu-IJnXtJAmNC27yje7IaVBPQR7UwbxugVFq6e2hR115ow_n779MeGf2XW9yjW8pXhE57KkASL-u/file?dl=1\n",
            "Resolving uc287e6022c6b04207a41d9e1729.dl.dropboxusercontent.com (uc287e6022c6b04207a41d9e1729.dl.dropboxusercontent.com)... 162.125.65.15, 2620:100:6021:15::a27d:410f\n",
            "Connecting to uc287e6022c6b04207a41d9e1729.dl.dropboxusercontent.com (uc287e6022c6b04207a41d9e1729.dl.dropboxusercontent.com)|162.125.65.15|:443... connected.\n",
            "HTTP request sent, awaiting response... 302 Found\n",
            "Location: /cd/0/inline2/Ci9qbVgDI7ujnlNjlRN4Y89rLh_0tlC77lxBbv7LApMYJ7Ri54H7h5YzQXl-Jogsil4cCh-1MwvFQtMDp5WpodQGPS_Q6KFREe83VOOwXmSoQWgYZ54RnjDxPjZjEFlETJZFCOeW3lBRyu9lG0NmOpoHvDynyjcp9OUJqEccHfix5os99xfTLYAHMi5YRtkD3GXbgeiF0poeHLP9bag_fgqM0QhL17QG2O_SV4R5qhbp2pHNXEwZXIivy6-f4lSiCMXGqgZMHAu65rRgQu_9p__XkWoslTh1I0ieFBAQ9vaaSSQO4KjwsWW5UnAqBIvo0W0r_9GmN0syoWIRvEmyX2O09-HYemSfqQtHBFfElMw6T_Jan7pXAUxPWq1ryJEx7kc/file?dl=1 [following]\n",
            "--2025-01-27 07:12:30--  https://uc287e6022c6b04207a41d9e1729.dl.dropboxusercontent.com/cd/0/inline2/Ci9qbVgDI7ujnlNjlRN4Y89rLh_0tlC77lxBbv7LApMYJ7Ri54H7h5YzQXl-Jogsil4cCh-1MwvFQtMDp5WpodQGPS_Q6KFREe83VOOwXmSoQWgYZ54RnjDxPjZjEFlETJZFCOeW3lBRyu9lG0NmOpoHvDynyjcp9OUJqEccHfix5os99xfTLYAHMi5YRtkD3GXbgeiF0poeHLP9bag_fgqM0QhL17QG2O_SV4R5qhbp2pHNXEwZXIivy6-f4lSiCMXGqgZMHAu65rRgQu_9p__XkWoslTh1I0ieFBAQ9vaaSSQO4KjwsWW5UnAqBIvo0W0r_9GmN0syoWIRvEmyX2O09-HYemSfqQtHBFfElMw6T_Jan7pXAUxPWq1ryJEx7kc/file?dl=1\n",
            "Reusing existing connection to uc287e6022c6b04207a41d9e1729.dl.dropboxusercontent.com:443.\n",
            "HTTP request sent, awaiting response... 200 OK\n",
            "Length: 14724683 (14M) [application/binary]\n",
            "Saving to: ‘tree_species_classifier_data.npz’\n",
            "\n",
            "tree_species_classi 100%[===================>]  14.04M  13.8MB/s    in 1.0s    \n",
            "\n",
            "2025-01-27 07:12:32 (13.8 MB/s) - ‘tree_species_classifier_data.npz’ saved [14724683/14724683]\n",
            "\n"
          ]
        }
      ],
      "source": [
        "if not os.path.exists('tree_species_classifier_data.npz'):\n",
        "  !wget -O tree_species_classifier_data.npz \"https://www.dropbox.com/scl/fi/b7mw23k3ifaeui9m8nnn3/tree_species_classifier_data.npz?rlkey=bgxp37c1t04i7q35waf3slc26&dl=1\""
      ]
    },
    {
      "cell_type": "code",
      "execution_count": 3,
      "metadata": {
        "id": "XSnb9owtxT5w"
      },
      "outputs": [],
      "source": [
        "data = np.load('tree_species_classifier_data.npz')\n",
        "train_features = data['train_features']\n",
        "train_labels = data['train_labels']\n",
        "test_features = data['test_features']\n",
        "test_labels = data['test_labels']"
      ]
    },
    {
      "cell_type": "code",
      "source": [
        "#2. Pre Process Data\n",
        "pca = sklearn.decomposition.PCA(n_components=32, whiten=True)\n",
        "pca.fit(train_features)\n",
        "pca_train_features = pca.transform(train_features)\n",
        "pca_test_features = pca.transform(test_features)\n",
        "print(\"Train features shape:\", pca_train_features.shape)\n",
        "print(\"Test features shape:\", pca_test_features.shape)"
      ],
      "metadata": {
        "colab": {
          "base_uri": "https://localhost:8080/"
        },
        "id": "f76lkghAm6u_",
        "outputId": "07f9d4c3-62c6-400e-a601-f5384904bfc1"
      },
      "execution_count": 4,
      "outputs": [
        {
          "output_type": "stream",
          "name": "stdout",
          "text": [
            "Train features shape: (15707, 32)\n",
            "Test features shape: (1554, 32)\n"
          ]
        }
      ]
    },
    {
      "cell_type": "code",
      "source": [
        "#3. Classifiers using Scikit-learn\n",
        "linear_classifier = sklearn.linear_model.LogisticRegression().fit(pca_train_features, train_labels)\n",
        "neural_network = sklearn.neural_network.MLPClassifier(hidden_layer_sizes=(100), activation=\"relu\", max_iter=1000).fit(pca_train_features, train_labels)\n",
        "\n",
        "print(\"Linear classifier accuracy:\", linear_classifier.score(pca_test_features, test_labels))\n",
        "print(\"Neural network accuracy:\", neural_network.score(pca_test_features, test_labels))"
      ],
      "metadata": {
        "colab": {
          "base_uri": "https://localhost:8080/"
        },
        "id": "KvELtO0Oerl1",
        "outputId": "fd985035-b156-4b17-cb65-899b36e8217d"
      },
      "execution_count": 9,
      "outputs": [
        {
          "output_type": "stream",
          "name": "stdout",
          "text": [
            "Linear classifier accuracy: 0.833976833976834\n",
            "Neural network accuracy: 0.8043758043758044\n"
          ]
        }
      ]
    },
    {
      "cell_type": "code",
      "source": [
        "#4. Classifiers using PyTorch\n",
        "X_train = torch.tensor(pca_train_features, dtype=torch.float32)\n",
        "y_train = torch.tensor(train_labels, dtype=torch.long)\n",
        "X_test = torch.tensor(pca_test_features, dtype=torch.float32)\n",
        "y_test = torch.tensor(test_labels, dtype=torch.long)"
      ],
      "metadata": {
        "id": "DpX8eL5Knz48"
      },
      "execution_count": 10,
      "outputs": []
    },
    {
      "cell_type": "code",
      "source": [
        "from torch.utils.data import TensorDataset, DataLoader\n",
        "\n",
        "train_dataset = TensorDataset(X_train, y_train)\n",
        "test_dataset = TensorDataset(X_test, y_test)\n",
        "train_loader = DataLoader(train_dataset, batch_size=32, shuffle=True)\n",
        "test_loader = DataLoader(test_dataset, batch_size=32)"
      ],
      "metadata": {
        "id": "mF6jLzZHhmN1"
      },
      "execution_count": 11,
      "outputs": []
    },
    {
      "cell_type": "code",
      "source": [
        "def get_accuracy(model, data_loader):\n",
        "  correct = 0\n",
        "  total = 0\n",
        "  model.eval()\n",
        "  with torch.no_grad():\n",
        "    for inputs, labels in data_loader:\n",
        "      outputs = model(inputs)\n",
        "      predicted = torch.argmax(outputs.data, dim=1)\n",
        "      total += labels.size(0)\n",
        "      correct += (predicted == labels).sum().item()\n",
        "  return correct / total"
      ],
      "metadata": {
        "id": "2N0YKUvxiAJn"
      },
      "execution_count": 12,
      "outputs": []
    },
    {
      "cell_type": "code",
      "source": [
        "def train_model(model, train_loader, test_loader, num_epochs=100):\n",
        "  loss_fn = torch.nn.CrossEntropyLoss()\n",
        "  optimizer = torch.optim.SGD(model.parameters(), lr=3e-2, weight_decay=0.001)\n",
        "  for epoch in range(num_epochs):\n",
        "    model.train()\n",
        "    for inputs, labels in train_loader:\n",
        "      optimizer.zero_grad()\n",
        "      outputs = model(inputs)\n",
        "      loss = loss_fn(outputs, labels)\n",
        "      loss.backward()\n",
        "      optimizer.step()\n",
        "\n",
        "    train_acc = get_accuracy(model, train_loader)\n",
        "    test_acc = get_accuracy(model, test_loader)\n",
        "    print(f\"Epoch {epoch+1}/{num_epochs}, Train Acc: {train_acc:.4f}, Test Acc: {test_acc:.4f}\")"
      ],
      "metadata": {
        "id": "bDpRuD3kncdR"
      },
      "execution_count": 13,
      "outputs": []
    },
    {
      "cell_type": "code",
      "source": [
        "linear_model = torch.nn.Linear(32, 8)\n",
        "train_model(linear_model, train_loader, test_loader)\n",
        "\n",
        "nn_model = torch.nn.Sequential(\n",
        "    torch.nn.Linear(32, 100),\n",
        "    torch.nn.ReLU(),\n",
        "    torch.nn.Linear(100, 8)\n",
        ")\n",
        "train_model(nn_model, train_loader, test_loader)"
      ],
      "metadata": {
        "colab": {
          "base_uri": "https://localhost:8080/"
        },
        "id": "6cZ6aX5XpJAF",
        "outputId": "1045c378-16b2-4943-915f-f5aa15106c0e"
      },
      "execution_count": 14,
      "outputs": [
        {
          "output_type": "stream",
          "name": "stdout",
          "text": [
            "Epoch 1/100, Train Acc: 0.8101, Test Acc: 0.7999\n",
            "Epoch 2/100, Train Acc: 0.8269, Test Acc: 0.8050\n",
            "Epoch 3/100, Train Acc: 0.8327, Test Acc: 0.8115\n",
            "Epoch 4/100, Train Acc: 0.8356, Test Acc: 0.8153\n",
            "Epoch 5/100, Train Acc: 0.8378, Test Acc: 0.8160\n",
            "Epoch 6/100, Train Acc: 0.8401, Test Acc: 0.8205\n",
            "Epoch 7/100, Train Acc: 0.8415, Test Acc: 0.8224\n",
            "Epoch 8/100, Train Acc: 0.8431, Test Acc: 0.8224\n",
            "Epoch 9/100, Train Acc: 0.8443, Test Acc: 0.8250\n",
            "Epoch 10/100, Train Acc: 0.8447, Test Acc: 0.8269\n",
            "Epoch 11/100, Train Acc: 0.8449, Test Acc: 0.8263\n",
            "Epoch 12/100, Train Acc: 0.8448, Test Acc: 0.8269\n",
            "Epoch 13/100, Train Acc: 0.8454, Test Acc: 0.8263\n",
            "Epoch 14/100, Train Acc: 0.8456, Test Acc: 0.8250\n",
            "Epoch 15/100, Train Acc: 0.8458, Test Acc: 0.8269\n",
            "Epoch 16/100, Train Acc: 0.8469, Test Acc: 0.8243\n",
            "Epoch 17/100, Train Acc: 0.8474, Test Acc: 0.8288\n",
            "Epoch 18/100, Train Acc: 0.8476, Test Acc: 0.8243\n",
            "Epoch 19/100, Train Acc: 0.8473, Test Acc: 0.8263\n",
            "Epoch 20/100, Train Acc: 0.8466, Test Acc: 0.8288\n",
            "Epoch 21/100, Train Acc: 0.8473, Test Acc: 0.8295\n",
            "Epoch 22/100, Train Acc: 0.8472, Test Acc: 0.8243\n",
            "Epoch 23/100, Train Acc: 0.8473, Test Acc: 0.8256\n",
            "Epoch 24/100, Train Acc: 0.8480, Test Acc: 0.8256\n",
            "Epoch 25/100, Train Acc: 0.8475, Test Acc: 0.8295\n",
            "Epoch 26/100, Train Acc: 0.8482, Test Acc: 0.8263\n",
            "Epoch 27/100, Train Acc: 0.8488, Test Acc: 0.8269\n",
            "Epoch 28/100, Train Acc: 0.8472, Test Acc: 0.8269\n",
            "Epoch 29/100, Train Acc: 0.8488, Test Acc: 0.8295\n",
            "Epoch 30/100, Train Acc: 0.8482, Test Acc: 0.8275\n",
            "Epoch 31/100, Train Acc: 0.8482, Test Acc: 0.8269\n",
            "Epoch 32/100, Train Acc: 0.8492, Test Acc: 0.8269\n",
            "Epoch 33/100, Train Acc: 0.8489, Test Acc: 0.8301\n",
            "Epoch 34/100, Train Acc: 0.8482, Test Acc: 0.8295\n",
            "Epoch 35/100, Train Acc: 0.8488, Test Acc: 0.8288\n",
            "Epoch 36/100, Train Acc: 0.8489, Test Acc: 0.8282\n",
            "Epoch 37/100, Train Acc: 0.8487, Test Acc: 0.8275\n",
            "Epoch 38/100, Train Acc: 0.8489, Test Acc: 0.8288\n",
            "Epoch 39/100, Train Acc: 0.8489, Test Acc: 0.8308\n",
            "Epoch 40/100, Train Acc: 0.8487, Test Acc: 0.8282\n",
            "Epoch 41/100, Train Acc: 0.8494, Test Acc: 0.8288\n",
            "Epoch 42/100, Train Acc: 0.8490, Test Acc: 0.8295\n",
            "Epoch 43/100, Train Acc: 0.8487, Test Acc: 0.8308\n",
            "Epoch 44/100, Train Acc: 0.8487, Test Acc: 0.8269\n",
            "Epoch 45/100, Train Acc: 0.8483, Test Acc: 0.8250\n",
            "Epoch 46/100, Train Acc: 0.8482, Test Acc: 0.8288\n",
            "Epoch 47/100, Train Acc: 0.8488, Test Acc: 0.8288\n",
            "Epoch 48/100, Train Acc: 0.8494, Test Acc: 0.8314\n",
            "Epoch 49/100, Train Acc: 0.8489, Test Acc: 0.8295\n",
            "Epoch 50/100, Train Acc: 0.8490, Test Acc: 0.8282\n",
            "Epoch 51/100, Train Acc: 0.8492, Test Acc: 0.8314\n",
            "Epoch 52/100, Train Acc: 0.8496, Test Acc: 0.8295\n",
            "Epoch 53/100, Train Acc: 0.8503, Test Acc: 0.8295\n",
            "Epoch 54/100, Train Acc: 0.8496, Test Acc: 0.8301\n",
            "Epoch 55/100, Train Acc: 0.8494, Test Acc: 0.8308\n",
            "Epoch 56/100, Train Acc: 0.8492, Test Acc: 0.8295\n",
            "Epoch 57/100, Train Acc: 0.8494, Test Acc: 0.8314\n",
            "Epoch 58/100, Train Acc: 0.8491, Test Acc: 0.8308\n",
            "Epoch 59/100, Train Acc: 0.8488, Test Acc: 0.8314\n",
            "Epoch 60/100, Train Acc: 0.8497, Test Acc: 0.8275\n",
            "Epoch 61/100, Train Acc: 0.8486, Test Acc: 0.8295\n",
            "Epoch 62/100, Train Acc: 0.8499, Test Acc: 0.8295\n",
            "Epoch 63/100, Train Acc: 0.8483, Test Acc: 0.8314\n",
            "Epoch 64/100, Train Acc: 0.8494, Test Acc: 0.8327\n",
            "Epoch 65/100, Train Acc: 0.8486, Test Acc: 0.8308\n",
            "Epoch 66/100, Train Acc: 0.8491, Test Acc: 0.8308\n",
            "Epoch 67/100, Train Acc: 0.8495, Test Acc: 0.8295\n",
            "Epoch 68/100, Train Acc: 0.8496, Test Acc: 0.8282\n",
            "Epoch 69/100, Train Acc: 0.8497, Test Acc: 0.8275\n",
            "Epoch 70/100, Train Acc: 0.8489, Test Acc: 0.8275\n",
            "Epoch 71/100, Train Acc: 0.8487, Test Acc: 0.8269\n",
            "Epoch 72/100, Train Acc: 0.8494, Test Acc: 0.8288\n",
            "Epoch 73/100, Train Acc: 0.8490, Test Acc: 0.8288\n",
            "Epoch 74/100, Train Acc: 0.8503, Test Acc: 0.8301\n",
            "Epoch 75/100, Train Acc: 0.8491, Test Acc: 0.8308\n",
            "Epoch 76/100, Train Acc: 0.8495, Test Acc: 0.8301\n",
            "Epoch 77/100, Train Acc: 0.8493, Test Acc: 0.8269\n",
            "Epoch 78/100, Train Acc: 0.8494, Test Acc: 0.8288\n",
            "Epoch 79/100, Train Acc: 0.8490, Test Acc: 0.8288\n",
            "Epoch 80/100, Train Acc: 0.8496, Test Acc: 0.8269\n",
            "Epoch 81/100, Train Acc: 0.8497, Test Acc: 0.8275\n",
            "Epoch 82/100, Train Acc: 0.8489, Test Acc: 0.8320\n",
            "Epoch 83/100, Train Acc: 0.8490, Test Acc: 0.8301\n",
            "Epoch 84/100, Train Acc: 0.8501, Test Acc: 0.8308\n",
            "Epoch 85/100, Train Acc: 0.8503, Test Acc: 0.8295\n",
            "Epoch 86/100, Train Acc: 0.8499, Test Acc: 0.8282\n",
            "Epoch 87/100, Train Acc: 0.8489, Test Acc: 0.8295\n",
            "Epoch 88/100, Train Acc: 0.8493, Test Acc: 0.8301\n",
            "Epoch 89/100, Train Acc: 0.8496, Test Acc: 0.8288\n",
            "Epoch 90/100, Train Acc: 0.8492, Test Acc: 0.8308\n",
            "Epoch 91/100, Train Acc: 0.8496, Test Acc: 0.8282\n",
            "Epoch 92/100, Train Acc: 0.8496, Test Acc: 0.8314\n",
            "Epoch 93/100, Train Acc: 0.8494, Test Acc: 0.8282\n",
            "Epoch 94/100, Train Acc: 0.8497, Test Acc: 0.8308\n",
            "Epoch 95/100, Train Acc: 0.8494, Test Acc: 0.8282\n",
            "Epoch 96/100, Train Acc: 0.8491, Test Acc: 0.8301\n",
            "Epoch 97/100, Train Acc: 0.8495, Test Acc: 0.8301\n",
            "Epoch 98/100, Train Acc: 0.8487, Test Acc: 0.8295\n",
            "Epoch 99/100, Train Acc: 0.8490, Test Acc: 0.8314\n",
            "Epoch 100/100, Train Acc: 0.8493, Test Acc: 0.8288\n",
            "Epoch 1/100, Train Acc: 0.8024, Test Acc: 0.7967\n",
            "Epoch 2/100, Train Acc: 0.8386, Test Acc: 0.8179\n",
            "Epoch 3/100, Train Acc: 0.8543, Test Acc: 0.8385\n",
            "Epoch 4/100, Train Acc: 0.8591, Test Acc: 0.8385\n",
            "Epoch 5/100, Train Acc: 0.8670, Test Acc: 0.8404\n",
            "Epoch 6/100, Train Acc: 0.8699, Test Acc: 0.8417\n",
            "Epoch 7/100, Train Acc: 0.8742, Test Acc: 0.8507\n",
            "Epoch 8/100, Train Acc: 0.8795, Test Acc: 0.8462\n",
            "Epoch 9/100, Train Acc: 0.8822, Test Acc: 0.8526\n",
            "Epoch 10/100, Train Acc: 0.8864, Test Acc: 0.8481\n",
            "Epoch 11/100, Train Acc: 0.8884, Test Acc: 0.8559\n",
            "Epoch 12/100, Train Acc: 0.8888, Test Acc: 0.8559\n",
            "Epoch 13/100, Train Acc: 0.8925, Test Acc: 0.8604\n",
            "Epoch 14/100, Train Acc: 0.8941, Test Acc: 0.8578\n",
            "Epoch 15/100, Train Acc: 0.8967, Test Acc: 0.8610\n",
            "Epoch 16/100, Train Acc: 0.8977, Test Acc: 0.8591\n",
            "Epoch 17/100, Train Acc: 0.8993, Test Acc: 0.8591\n",
            "Epoch 18/100, Train Acc: 0.9027, Test Acc: 0.8616\n",
            "Epoch 19/100, Train Acc: 0.9028, Test Acc: 0.8597\n",
            "Epoch 20/100, Train Acc: 0.9062, Test Acc: 0.8565\n",
            "Epoch 21/100, Train Acc: 0.9068, Test Acc: 0.8571\n",
            "Epoch 22/100, Train Acc: 0.9083, Test Acc: 0.8539\n",
            "Epoch 23/100, Train Acc: 0.9111, Test Acc: 0.8507\n",
            "Epoch 24/100, Train Acc: 0.9090, Test Acc: 0.8533\n",
            "Epoch 25/100, Train Acc: 0.9120, Test Acc: 0.8616\n",
            "Epoch 26/100, Train Acc: 0.9132, Test Acc: 0.8533\n",
            "Epoch 27/100, Train Acc: 0.9130, Test Acc: 0.8559\n",
            "Epoch 28/100, Train Acc: 0.9151, Test Acc: 0.8539\n",
            "Epoch 29/100, Train Acc: 0.9137, Test Acc: 0.8520\n",
            "Epoch 30/100, Train Acc: 0.9147, Test Acc: 0.8565\n",
            "Epoch 31/100, Train Acc: 0.9167, Test Acc: 0.8584\n",
            "Epoch 32/100, Train Acc: 0.9170, Test Acc: 0.8546\n",
            "Epoch 33/100, Train Acc: 0.9197, Test Acc: 0.8559\n",
            "Epoch 34/100, Train Acc: 0.9188, Test Acc: 0.8539\n",
            "Epoch 35/100, Train Acc: 0.9204, Test Acc: 0.8526\n",
            "Epoch 36/100, Train Acc: 0.9175, Test Acc: 0.8565\n",
            "Epoch 37/100, Train Acc: 0.9199, Test Acc: 0.8552\n",
            "Epoch 38/100, Train Acc: 0.9212, Test Acc: 0.8578\n",
            "Epoch 39/100, Train Acc: 0.9209, Test Acc: 0.8552\n",
            "Epoch 40/100, Train Acc: 0.9230, Test Acc: 0.8526\n",
            "Epoch 41/100, Train Acc: 0.9228, Test Acc: 0.8552\n",
            "Epoch 42/100, Train Acc: 0.9242, Test Acc: 0.8526\n",
            "Epoch 43/100, Train Acc: 0.9232, Test Acc: 0.8552\n",
            "Epoch 44/100, Train Acc: 0.9235, Test Acc: 0.8552\n",
            "Epoch 45/100, Train Acc: 0.9261, Test Acc: 0.8604\n",
            "Epoch 46/100, Train Acc: 0.9254, Test Acc: 0.8565\n",
            "Epoch 47/100, Train Acc: 0.9277, Test Acc: 0.8507\n",
            "Epoch 48/100, Train Acc: 0.9268, Test Acc: 0.8520\n",
            "Epoch 49/100, Train Acc: 0.9272, Test Acc: 0.8539\n",
            "Epoch 50/100, Train Acc: 0.9275, Test Acc: 0.8475\n",
            "Epoch 51/100, Train Acc: 0.9301, Test Acc: 0.8533\n",
            "Epoch 52/100, Train Acc: 0.9290, Test Acc: 0.8578\n",
            "Epoch 53/100, Train Acc: 0.9294, Test Acc: 0.8571\n",
            "Epoch 54/100, Train Acc: 0.9309, Test Acc: 0.8591\n",
            "Epoch 55/100, Train Acc: 0.9323, Test Acc: 0.8571\n",
            "Epoch 56/100, Train Acc: 0.9317, Test Acc: 0.8546\n",
            "Epoch 57/100, Train Acc: 0.9318, Test Acc: 0.8565\n",
            "Epoch 58/100, Train Acc: 0.9309, Test Acc: 0.8546\n",
            "Epoch 59/100, Train Acc: 0.9312, Test Acc: 0.8616\n",
            "Epoch 60/100, Train Acc: 0.9347, Test Acc: 0.8539\n",
            "Epoch 61/100, Train Acc: 0.9333, Test Acc: 0.8610\n",
            "Epoch 62/100, Train Acc: 0.9324, Test Acc: 0.8591\n",
            "Epoch 63/100, Train Acc: 0.9335, Test Acc: 0.8559\n",
            "Epoch 64/100, Train Acc: 0.9355, Test Acc: 0.8552\n",
            "Epoch 65/100, Train Acc: 0.9330, Test Acc: 0.8565\n",
            "Epoch 66/100, Train Acc: 0.9354, Test Acc: 0.8591\n",
            "Epoch 67/100, Train Acc: 0.9357, Test Acc: 0.8552\n",
            "Epoch 68/100, Train Acc: 0.9373, Test Acc: 0.8533\n",
            "Epoch 69/100, Train Acc: 0.9363, Test Acc: 0.8526\n",
            "Epoch 70/100, Train Acc: 0.9328, Test Acc: 0.8571\n",
            "Epoch 71/100, Train Acc: 0.9357, Test Acc: 0.8571\n",
            "Epoch 72/100, Train Acc: 0.9356, Test Acc: 0.8565\n",
            "Epoch 73/100, Train Acc: 0.9385, Test Acc: 0.8539\n",
            "Epoch 74/100, Train Acc: 0.9387, Test Acc: 0.8584\n",
            "Epoch 75/100, Train Acc: 0.9385, Test Acc: 0.8552\n",
            "Epoch 76/100, Train Acc: 0.9379, Test Acc: 0.8578\n",
            "Epoch 77/100, Train Acc: 0.9374, Test Acc: 0.8610\n",
            "Epoch 78/100, Train Acc: 0.9383, Test Acc: 0.8578\n",
            "Epoch 79/100, Train Acc: 0.9403, Test Acc: 0.8559\n",
            "Epoch 80/100, Train Acc: 0.9381, Test Acc: 0.8533\n",
            "Epoch 81/100, Train Acc: 0.9396, Test Acc: 0.8520\n",
            "Epoch 82/100, Train Acc: 0.9396, Test Acc: 0.8565\n",
            "Epoch 83/100, Train Acc: 0.9395, Test Acc: 0.8578\n",
            "Epoch 84/100, Train Acc: 0.9399, Test Acc: 0.8571\n",
            "Epoch 85/100, Train Acc: 0.9409, Test Acc: 0.8565\n",
            "Epoch 86/100, Train Acc: 0.9405, Test Acc: 0.8591\n",
            "Epoch 87/100, Train Acc: 0.9416, Test Acc: 0.8546\n",
            "Epoch 88/100, Train Acc: 0.9416, Test Acc: 0.8578\n",
            "Epoch 89/100, Train Acc: 0.9409, Test Acc: 0.8616\n",
            "Epoch 90/100, Train Acc: 0.9416, Test Acc: 0.8546\n",
            "Epoch 91/100, Train Acc: 0.9423, Test Acc: 0.8584\n",
            "Epoch 92/100, Train Acc: 0.9399, Test Acc: 0.8584\n",
            "Epoch 93/100, Train Acc: 0.9416, Test Acc: 0.8584\n",
            "Epoch 94/100, Train Acc: 0.9433, Test Acc: 0.8565\n",
            "Epoch 95/100, Train Acc: 0.9417, Test Acc: 0.8565\n",
            "Epoch 96/100, Train Acc: 0.9423, Test Acc: 0.8597\n",
            "Epoch 97/100, Train Acc: 0.9432, Test Acc: 0.8578\n",
            "Epoch 98/100, Train Acc: 0.9419, Test Acc: 0.8546\n",
            "Epoch 99/100, Train Acc: 0.9431, Test Acc: 0.8591\n",
            "Epoch 100/100, Train Acc: 0.9405, Test Acc: 0.8571\n"
          ]
        }
      ]
    }
  ],
  "metadata": {
    "colab": {
      "provenance": []
    },
    "kernelspec": {
      "display_name": "Python 3",
      "name": "python3"
    },
    "language_info": {
      "name": "python"
    }
  },
  "nbformat": 4,
  "nbformat_minor": 0
}